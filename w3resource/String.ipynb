{
 "cells": [
  {
   "cell_type": "code",
   "execution_count": 1,
   "metadata": {},
   "outputs": [
    {
     "name": "stdout",
     "output_type": "stream",
     "text": [
      "8\n"
     ]
    }
   ],
   "source": [
    "# Write a Python program to calculate the length of a string\n",
    "def length(string):\n",
    "    return len(string)\n",
    "\n",
    "print(length(\"Sayantan\"))"
   ]
  },
  {
   "cell_type": "code",
   "execution_count": 3,
   "metadata": {},
   "outputs": [
    {
     "name": "stdout",
     "output_type": "stream",
     "text": [
      "{'S': 1, 'a': 3, 'y': 1, 'n': 2, 't': 1}\n"
     ]
    }
   ],
   "source": [
    "# Write a Python program to count the number of characters (character frequency) in a string.\n",
    "def char_frequency(string):\n",
    "    char_count = dict()\n",
    "    for char in string:\n",
    "        if char in char_count:\n",
    "            char_count[char] += 1\n",
    "        else:\n",
    "            char_count[char] = 1\n",
    "    return char_count\n",
    "\n",
    "print(char_frequency(\"Sayantan\"))"
   ]
  },
  {
   "cell_type": "code",
   "execution_count": 7,
   "metadata": {},
   "outputs": [
    {
     "name": "stdout",
     "output_type": "stream",
     "text": [
      "w3ce\n",
      "w3w3\n"
     ]
    }
   ],
   "source": [
    "# Write a Python program to get a string made of the first 2 and the last 2 chars from a given a string. \n",
    "# If the string length is less than 2, return instead of the empty string.\n",
    "\n",
    "def fl(string):\n",
    "    if len(string) < 2:\n",
    "        return \"\"\n",
    "    else:\n",
    "        return string[0:2] + string[-2:]\n",
    "\n",
    "print(fl('w3resource'))\n",
    "print(fl('w3'))\n"
   ]
  },
  {
   "cell_type": "code",
   "execution_count": 18,
   "metadata": {},
   "outputs": [
    {
     "name": "stdout",
     "output_type": "stream",
     "text": [
      "A\n"
     ]
    }
   ],
   "source": [
    "# Write a Python program to get a string from a given string where all occurrences of its first char have been changed to '$', \n",
    "# except the first char itself.\n",
    "# Sample String : 'restart'\n",
    "# Expected Result : 'resta$t'\n",
    "\n",
    "def replace(string):\n",
    "    firstChar = string[0]\n",
    "    string = string.replace(firstChar,'$')\n",
    "    return firstChar + string[1:]\n",
    "\n",
    "print(replace(\"Aayana\"))"
   ]
  },
  {
   "cell_type": "code",
   "execution_count": 33,
   "metadata": {},
   "outputs": [
    {
     "name": "stdout",
     "output_type": "stream",
     "text": [
      "abzd\n",
      "('xycd', 'abzd')\n"
     ]
    }
   ],
   "source": [
    "# Write a Python program to get a single string from two given strings, separated by a space and swap the first two characters of each string.\n",
    "# Sample String : 'abc', 'xyz'\n",
    "# Expected Result : 'xyc abz'\n",
    "\n",
    "def swap(string):\n",
    "    str1 = string.split(\" \")[0]\n",
    "    str2 = string.split(\" \")[1]\n",
    "\n",
    "    f2c_str1 = str1[:2]\n",
    "    f2c_str2 = str2[:2]\n",
    "\n",
    "    newstr1 = f2c_str2 + str1[2:]\n",
    "    newstr2 = f2c_str1 + str2[2:]\n",
    "    print(newstr2)\n",
    "\n",
    "    return newstr1,newstr2\n",
    "\n",
    "print(swap('abcd xyzd'))"
   ]
  }
 ],
 "metadata": {
  "interpreter": {
   "hash": "aee8b7b246df8f9039afb4144a1f6fd8d2ca17a180786b69acc140d282b71a49"
  },
  "kernelspec": {
   "display_name": "Python 3.10.4 64-bit",
   "language": "python",
   "name": "python3"
  },
  "language_info": {
   "codemirror_mode": {
    "name": "ipython",
    "version": 3
   },
   "file_extension": ".py",
   "mimetype": "text/x-python",
   "name": "python",
   "nbconvert_exporter": "python",
   "pygments_lexer": "ipython3",
   "version": "3.10.4"
  },
  "orig_nbformat": 4
 },
 "nbformat": 4,
 "nbformat_minor": 2
}
