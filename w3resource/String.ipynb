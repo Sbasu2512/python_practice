{
 "cells": [
  {
   "cell_type": "code",
   "execution_count": 1,
   "metadata": {},
   "outputs": [
    {
     "name": "stdout",
     "output_type": "stream",
     "text": [
      "8\n"
     ]
    }
   ],
   "source": [
    "# Write a Python program to calculate the length of a string\n",
    "def length(string):\n",
    "    return len(string)\n",
    "\n",
    "print(length(\"Sayantan\"))"
   ]
  },
  {
   "cell_type": "code",
   "execution_count": 3,
   "metadata": {},
   "outputs": [
    {
     "name": "stdout",
     "output_type": "stream",
     "text": [
      "{'S': 1, 'a': 3, 'y': 1, 'n': 2, 't': 1}\n"
     ]
    }
   ],
   "source": [
    "# Write a Python program to count the number of characters (character frequency) in a string.\n",
    "def char_frequency(string):\n",
    "    char_count = dict()\n",
    "    for char in string:\n",
    "        if char in char_count:\n",
    "            char_count[char] += 1\n",
    "        else:\n",
    "            char_count[char] = 1\n",
    "    return char_count\n",
    "\n",
    "print(char_frequency(\"Sayantan\"))"
   ]
  },
  {
   "cell_type": "code",
   "execution_count": 7,
   "metadata": {},
   "outputs": [
    {
     "name": "stdout",
     "output_type": "stream",
     "text": [
      "w3ce\n",
      "w3w3\n"
     ]
    }
   ],
   "source": [
    "# Write a Python program to get a string made of the first 2 and the last 2 chars from a given a string. \n",
    "# If the string length is less than 2, return instead of the empty string.\n",
    "\n",
    "def fl(string):\n",
    "    if len(string) < 2:\n",
    "        return \"\"\n",
    "    else:\n",
    "        return string[0:2] + string[-2:]\n",
    "\n",
    "print(fl('w3resource'))\n",
    "print(fl('w3'))\n"
   ]
  },
  {
   "cell_type": "code",
   "execution_count": 18,
   "metadata": {},
   "outputs": [
    {
     "name": "stdout",
     "output_type": "stream",
     "text": [
      "A\n"
     ]
    }
   ],
   "source": [
    "# Write a Python program to get a string from a given string where all occurrences of its first char have been changed to '$', \n",
    "# except the first char itself.\n",
    "# Sample String : 'restart'\n",
    "# Expected Result : 'resta$t'\n",
    "\n",
    "def replace(string):\n",
    "    firstChar = string[0]\n",
    "    string = string.replace(firstChar,'$')\n",
    "    return firstChar + string[1:]\n",
    "\n",
    "print(replace(\"Aayana\"))"
   ]
  },
  {
   "cell_type": "code",
   "execution_count": 33,
   "metadata": {},
   "outputs": [
    {
     "name": "stdout",
     "output_type": "stream",
     "text": [
      "abzd\n",
      "('xycd', 'abzd')\n"
     ]
    }
   ],
   "source": [
    "# Write a Python program to get a single string from two given strings, separated by a space and swap the first two characters of each string.\n",
    "# Sample String : 'abc', 'xyz'\n",
    "# Expected Result : 'xyc abz'\n",
    "\n",
    "def swap(string):\n",
    "    str1 = string.split(\" \")[0]\n",
    "    str2 = string.split(\" \")[1]\n",
    "\n",
    "    f2c_str1 = str1[:2]\n",
    "    f2c_str2 = str2[:2]\n",
    "\n",
    "    newstr1 = f2c_str2 + str1[2:]\n",
    "    newstr2 = f2c_str1 + str2[2:]\n",
    "    print(newstr2)\n",
    "\n",
    "    return newstr1,newstr2\n",
    "\n",
    "print(swap('abcd xyzd'))"
   ]
  },
  {
   "cell_type": "code",
   "execution_count": 37,
   "metadata": {},
   "outputs": [
    {
     "name": "stdout",
     "output_type": "stream",
     "text": [
      "string\n"
     ]
    }
   ],
   "source": [
    "# Write a Python program to add 'ing' at the end of a given string (length should be at least 3). \n",
    "# If the given string already ends with 'ing' then add 'ly' instead. If the string length of the given string is less than 3, leave it unchanged.\n",
    "# Sample String : 'abc'\n",
    "# Expected Result : 'abcing'\n",
    "# Sample String : 'string'\n",
    "# Expected Result : 'stringly'\n",
    "\n",
    "def replace(string):\n",
    "    if len(string) >= 3:\n",
    "        if string[-3:] != 'ing':\n",
    "           return string + 'ing'\n",
    "        else:\n",
    "           return string + 'ly'\n",
    "\n",
    "print(replace(\"str\"))\n",
    "\n"
   ]
  },
  {
   "cell_type": "code",
   "execution_count": 1,
   "metadata": {},
   "outputs": [
    {
     "name": "stdout",
     "output_type": "stream",
     "text": [
      "The lyrics is good!\n",
      "The lyrics is poor!\n"
     ]
    }
   ],
   "source": [
    "# Write a Python program to find the first appearance of the substring 'not' and 'poor' from a given string, \n",
    "# if 'not' follows the 'poor', replace the whole 'not'...'poor' substring with 'good'. Return the resulting string.\n",
    "\n",
    "def not_poor(str1):\n",
    "  snot = str1.find('not')\n",
    "  spoor = str1.find('poor')\n",
    "  \n",
    "\n",
    "  if spoor > snot and snot>0 and spoor>0:\n",
    "    # we can slice a string like so\n",
    "    str1 = str1.replace(str1[snot:(spoor+4)], 'good')\n",
    "    return str1\n",
    "  else:\n",
    "    return str1\n",
    "print(not_poor('The lyrics is not that poor!'))\n",
    "print(not_poor('The lyrics is poor!'))"
   ]
  },
  {
   "cell_type": "code",
   "execution_count": 69,
   "metadata": {},
   "outputs": [
    {
     "data": {
      "text/plain": [
       "'exorcisims'"
      ]
     },
     "execution_count": 69,
     "metadata": {},
     "output_type": "execute_result"
    }
   ],
   "source": [
    "# Write a Python function that takes a list of words and return the longest word and the length of the longest one.\n",
    "# Sample Output:\n",
    "# Longest word: Exercises\n",
    "# Length of the longest word: 9\n",
    "\n",
    "def length_checker(string):\n",
    "    listArr = string.split(\",\")\n",
    "    longest = listArr[0]\n",
    "    for words in listArr:\n",
    "        if len(words) > len(longest):\n",
    "            longest = words\n",
    "    return longest \n",
    "\n",
    "length_checker('exercise,word,play,example,exorcisims')"
   ]
  },
  {
   "cell_type": "code",
   "execution_count": 5,
   "metadata": {},
   "outputs": [
    {
     "data": {
      "text/plain": [
       "'nayantaS'"
      ]
     },
     "execution_count": 5,
     "metadata": {},
     "output_type": "execute_result"
    }
   ],
   "source": [
    "# Write a Python program to change a given string to a new string where the first and last chars have been exchanged.\n",
    "def exchange(string):\n",
    "    first_char = string[0]\n",
    "    last_char = string[len(string)-1]\n",
    "    middle_portion = string[1:(len(string)-1)]\n",
    "    return last_char + middle_portion + first_char\n",
    "\n",
    "exchange('Sayantan')"
   ]
  },
  {
   "cell_type": "code",
   "execution_count": 9,
   "metadata": {},
   "outputs": [
    {
     "name": "stdout",
     "output_type": "stream",
     "text": [
      " black, black, green, red, white,red\n"
     ]
    }
   ],
   "source": [
    "# Write a Python program that accepts a comma separated sequence of words as input and prints the unique words in sorted form (alphanumerically).\n",
    "# Sample Words : red, white, black, red, green, black\n",
    "# Expected Result : black, green, red, white,red\n",
    "\n",
    "def sort(string):\n",
    "    word_arr = string.split(',')\n",
    "    word_arr = sorted(word_arr)\n",
    "    return \",\".join(word_arr)\n",
    "\n",
    "print(sort(\"red, white, black, red, green, black\"))"
   ]
  },
  {
   "cell_type": "code",
   "execution_count": 10,
   "metadata": {},
   "outputs": [
    {
     "data": {
      "text/plain": [
       "'<i>python<i>'"
      ]
     },
     "execution_count": 10,
     "metadata": {},
     "output_type": "execute_result"
    }
   ],
   "source": [
    "# Write a Python function to create the HTML string with tags around the word(s). \n",
    "# Sample function and result :\n",
    "# add_tags('i', 'Python') -> '<i>Python</i>'\n",
    "# add_tags('b', 'Python Tutorial') -> '<b>Python Tutorial </b>'\n",
    "\n",
    "def insert(tag,word):\n",
    "    # %s is used for string interpolation\n",
    "    return \"<%s>%s<%s>\" % (tag, word, tag)\n",
    "\n",
    "insert('i',\"python\")"
   ]
  },
  {
   "cell_type": "code",
   "execution_count": 16,
   "metadata": {},
   "outputs": [
    {
     "data": {
      "text/plain": [
       "'[[Python]]'"
      ]
     },
     "execution_count": 16,
     "metadata": {},
     "output_type": "execute_result"
    }
   ],
   "source": [
    "# Write a Python function to insert a string in the middle of a string. \n",
    "# Sample function and result :\n",
    "# insert_sting_middle('[[]]', 'Python') -> [[Python]]\n",
    "# insert_sting_middle('{{}}', 'PHP') -> {{PHP}}\n",
    "\n",
    "def insert_sting_middle(tag, word):\n",
    "    return tag[:2] + word + tag[2:]\n",
    "\n",
    "insert_sting_middle('[[]]', 'Python')"
   ]
  },
  {
   "cell_type": "code",
   "execution_count": 17,
   "metadata": {},
   "outputs": [
    {
     "data": {
      "text/plain": [
       "'onononon'"
      ]
     },
     "execution_count": 17,
     "metadata": {},
     "output_type": "execute_result"
    }
   ],
   "source": [
    "# Write a Python function to get a string made of 4 copies of the last two characters of a specified string (length must be at least 2). \n",
    "# Sample function and result :\n",
    "# insert_end('Python') -> onononon\n",
    "# insert_end('Exercises') -> eseseses\n",
    "\n",
    "def insert_end(string):\n",
    "    sub_str = string[(len(string)-2):]\n",
    "    return sub_str * 4\n",
    "\n",
    "insert_end('Python')"
   ]
  }
 ],
 "metadata": {
  "interpreter": {
   "hash": "aee8b7b246df8f9039afb4144a1f6fd8d2ca17a180786b69acc140d282b71a49"
  },
  "kernelspec": {
   "display_name": "Python 3.10.4 64-bit",
   "language": "python",
   "name": "python3"
  },
  "language_info": {
   "codemirror_mode": {
    "name": "ipython",
    "version": 3
   },
   "file_extension": ".py",
   "mimetype": "text/x-python",
   "name": "python",
   "nbconvert_exporter": "python",
   "pygments_lexer": "ipython3",
   "version": "3.10.4"
  },
  "orig_nbformat": 4
 },
 "nbformat": 4,
 "nbformat_minor": 2
}
