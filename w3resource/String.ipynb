{
 "cells": [
  {
   "cell_type": "code",
   "execution_count": 1,
   "metadata": {},
   "outputs": [
    {
     "name": "stdout",
     "output_type": "stream",
     "text": [
      "8\n"
     ]
    }
   ],
   "source": [
    "# Write a Python program to calculate the length of a string\n",
    "def length(string):\n",
    "    return len(string)\n",
    "\n",
    "print(length(\"Sayantan\"))"
   ]
  },
  {
   "cell_type": "code",
   "execution_count": 3,
   "metadata": {},
   "outputs": [
    {
     "name": "stdout",
     "output_type": "stream",
     "text": [
      "{'S': 1, 'a': 3, 'y': 1, 'n': 2, 't': 1}\n"
     ]
    }
   ],
   "source": [
    "# Write a Python program to count the number of characters (character frequency) in a string.\n",
    "def char_frequency(string):\n",
    "    char_count = dict()\n",
    "    for char in string:\n",
    "        if char in char_count:\n",
    "            char_count[char] += 1\n",
    "        else:\n",
    "            char_count[char] = 1\n",
    "    return char_count\n",
    "\n",
    "print(char_frequency(\"Sayantan\"))"
   ]
  },
  {
   "cell_type": "code",
   "execution_count": 5,
   "metadata": {},
   "outputs": [
    {
     "ename": "TypeError",
     "evalue": "string indices must be integers",
     "output_type": "error",
     "traceback": [
      "\u001b[0;31m---------------------------------------------------------------------------\u001b[0m",
      "\u001b[0;31mTypeError\u001b[0m                                 Traceback (most recent call last)",
      "\u001b[1;32m/Users/sayantanbasu/Practice/w3resource/String.ipynb Cell 3'\u001b[0m in \u001b[0;36m<cell line: 10>\u001b[0;34m()\u001b[0m\n\u001b[1;32m      <a href='vscode-notebook-cell:/Users/sayantanbasu/Practice/w3resource/String.ipynb#ch0000002?line=6'>7</a>\u001b[0m     \u001b[39melse\u001b[39;00m:\n\u001b[1;32m      <a href='vscode-notebook-cell:/Users/sayantanbasu/Practice/w3resource/String.ipynb#ch0000002?line=7'>8</a>\u001b[0m         \u001b[39mreturn\u001b[39;00m string[\u001b[39m0\u001b[39m,\u001b[39m2\u001b[39m] \u001b[39m+\u001b[39m string\u001b[39m.\u001b[39mslice[\u001b[39m-\u001b[39m\u001b[39m2\u001b[39m,]\n\u001b[0;32m---> <a href='vscode-notebook-cell:/Users/sayantanbasu/Practice/w3resource/String.ipynb#ch0000002?line=9'>10</a>\u001b[0m \u001b[39mprint\u001b[39m(fl(\u001b[39m'\u001b[39;49m\u001b[39mw3resource\u001b[39;49m\u001b[39m'\u001b[39;49m))\n",
      "\u001b[1;32m/Users/sayantanbasu/Practice/w3resource/String.ipynb Cell 3'\u001b[0m in \u001b[0;36mfl\u001b[0;34m(string)\u001b[0m\n\u001b[1;32m      <a href='vscode-notebook-cell:/Users/sayantanbasu/Practice/w3resource/String.ipynb#ch0000002?line=5'>6</a>\u001b[0m     \u001b[39mreturn\u001b[39;00m \u001b[39m\"\u001b[39m\u001b[39m\"\u001b[39m\n\u001b[1;32m      <a href='vscode-notebook-cell:/Users/sayantanbasu/Practice/w3resource/String.ipynb#ch0000002?line=6'>7</a>\u001b[0m \u001b[39melse\u001b[39;00m:\n\u001b[0;32m----> <a href='vscode-notebook-cell:/Users/sayantanbasu/Practice/w3resource/String.ipynb#ch0000002?line=7'>8</a>\u001b[0m     \u001b[39mreturn\u001b[39;00m string[\u001b[39m0\u001b[39;49m,\u001b[39m2\u001b[39;49m] \u001b[39m+\u001b[39m string\u001b[39m.\u001b[39mslice[\u001b[39m-\u001b[39m\u001b[39m2\u001b[39m,]\n",
      "\u001b[0;31mTypeError\u001b[0m: string indices must be integers"
     ]
    }
   ],
   "source": [
    "# Write a Python program to get a string made of the first 2 and the last 2 chars from a given a string. \n",
    "# If the string length is less than 2, return instead of the empty string.\n",
    "\n",
    "def fl(string):\n",
    "    if len(string) < 2:\n",
    "        return \"\"\n",
    "    else:\n",
    "        return string[0:2] + string[-2:]\n",
    "\n",
    "print(fl('w3resource'))\n"
   ]
  }
 ],
 "metadata": {
  "interpreter": {
   "hash": "aee8b7b246df8f9039afb4144a1f6fd8d2ca17a180786b69acc140d282b71a49"
  },
  "kernelspec": {
   "display_name": "Python 3.10.4 64-bit",
   "language": "python",
   "name": "python3"
  },
  "language_info": {
   "codemirror_mode": {
    "name": "ipython",
    "version": 3
   },
   "file_extension": ".py",
   "mimetype": "text/x-python",
   "name": "python",
   "nbconvert_exporter": "python",
   "pygments_lexer": "ipython3",
   "version": "3.10.4"
  },
  "orig_nbformat": 4
 },
 "nbformat": 4,
 "nbformat_minor": 2
}
