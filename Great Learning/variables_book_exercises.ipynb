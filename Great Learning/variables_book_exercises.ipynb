{
 "cells": [
  {
   "cell_type": "markdown",
   "metadata": {},
   "source": [
    "Try these short programs to get some firsthand experience with Python’s lists.\n",
    "You might want to create a new folder for each chapter’s exercises to keep\n",
    "them organized.\n",
    "\n",
    "3-1. Names: Store the names in a list called names. Print\n",
    "each person’s name by accessing each element in the list, one at a time.\n",
    "\n",
    "3-2. Greetings: Start with the list you used in Exercise 3-1, but instead of just\n",
    "printing each person’s name, print a message to them. The text of each message\n",
    "should be the same, but each message should be personalized with the\n",
    "person’s name.\n",
    "\n",
    "3-3. Your Own List: Think of your favorite mode of transportation, such as a\n",
    "motorcycle or a car, and make a list that stores several examples. Use your list\n",
    "to print a series of statements about these items, such as “I would like to own a\n",
    "Honda motorcycle.”"
   ]
  },
  {
   "cell_type": "code",
   "execution_count": 1,
   "metadata": {},
   "outputs": [
    {
     "name": "stdout",
     "output_type": "stream",
     "text": [
      "tom\n",
      "harry\n",
      "ron\n"
     ]
    }
   ],
   "source": [
    "#3-1\n",
    "names = ['tom', 'harry', 'ron']\n",
    "\n",
    "print(names[0])\n",
    "print(names[1])\n",
    "print(names[2])"
   ]
  },
  {
   "cell_type": "code",
   "execution_count": 3,
   "metadata": {},
   "outputs": [
    {
     "name": "stdout",
     "output_type": "stream",
     "text": [
      "Hello, tom!\n",
      "Hello, harry!\n",
      "Hello, ron!\n"
     ]
    }
   ],
   "source": [
    "# 3-2\n",
    "names = ['tom', 'harry', 'ron']\n",
    "\n",
    "print(f\"Hello, {names[0]}!\")\n",
    "print(f\"Hello, {names[1]}!\")\n",
    "print(f\"Hello, {names[2]}!\")"
   ]
  },
  {
   "cell_type": "code",
   "execution_count": 2,
   "metadata": {},
   "outputs": [
    {
     "name": "stdout",
     "output_type": "stream",
     "text": [
      "Hello, tom!\n",
      "Hello, harry!\n",
      "Hello, ron!\n"
     ]
    }
   ],
   "source": [
    "# 3-3\n"
   ]
  }
 ],
 "metadata": {
  "interpreter": {
   "hash": "aee8b7b246df8f9039afb4144a1f6fd8d2ca17a180786b69acc140d282b71a49"
  },
  "kernelspec": {
   "display_name": "Python 3.10.4 64-bit",
   "language": "python",
   "name": "python3"
  },
  "language_info": {
   "codemirror_mode": {
    "name": "ipython",
    "version": 3
   },
   "file_extension": ".py",
   "mimetype": "text/x-python",
   "name": "python",
   "nbconvert_exporter": "python",
   "pygments_lexer": "ipython3",
   "version": "3.10.4"
  },
  "orig_nbformat": 4
 },
 "nbformat": 4,
 "nbformat_minor": 2
}
