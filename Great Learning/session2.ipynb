{
 "cells": [
  {
   "cell_type": "code",
   "execution_count": 60,
   "metadata": {},
   "outputs": [
    {
     "name": "stdout",
     "output_type": "stream",
     "text": [
      "ognajd natnayas\n"
     ]
    }
   ],
   "source": [
    "# reverse a string with slice method\n",
    "string=\"sayantan django\"\n",
    "print(string[::-1])"
   ]
  },
  {
   "cell_type": "code",
   "execution_count": 61,
   "metadata": {},
   "outputs": [
    {
     "name": "stdout",
     "output_type": "stream",
     "text": [
      "[5, 4, 3, 2, 1, 0]\n",
      "[2, 3]\n"
     ]
    }
   ],
   "source": [
    "#slice method\n",
    "# slice[start value:stop value:step]\n",
    "arr = [0,1,2,3,4,5]\n",
    "print(arr[::-1]) # will reverse the list \n",
    "print(arr[2:4]) # will print from 2nd element to 3rd element"
   ]
  },
  {
   "cell_type": "markdown",
   "metadata": {},
   "source": [
    "# Built in functions"
   ]
  },
  {
   "cell_type": "code",
   "execution_count": 62,
   "metadata": {},
   "outputs": [
    {
     "name": "stdout",
     "output_type": "stream",
     "text": [
      "Sum of 8 and 9 is 17 \n"
     ]
    }
   ],
   "source": [
    "# sum\n",
    "num1 = 8\n",
    "num2 = 9\n",
    "print(f\"Sum of {num1} and {num2} is {num1+num2} \")"
   ]
  },
  {
   "cell_type": "code",
   "execution_count": 63,
   "metadata": {},
   "outputs": [
    {
     "data": {
      "text/plain": [
       "'Please enter a number'"
      ]
     },
     "execution_count": 63,
     "metadata": {},
     "output_type": "execute_result"
    }
   ],
   "source": [
    "#define a function to print the sum of two number\n",
    "def addition(a,b): #user defined function\n",
    "    if type(a) == int and type(b) == int:\n",
    "        return a+b\n",
    "    else:\n",
    "        return \"Please enter a number\"\n",
    "\n",
    "#driver's code\n",
    "addition(3,4) # should print sum\n",
    "addition('3',4) # should not print sum, will go to else block "
   ]
  },
  {
   "cell_type": "code",
   "execution_count": 57,
   "metadata": {},
   "outputs": [
    {
     "data": {
      "text/plain": [
       "1"
      ]
     },
     "execution_count": 57,
     "metadata": {},
     "output_type": "execute_result"
    }
   ],
   "source": [
    "# define a function to print the substraction of two numbers. ask user to input them\n",
    "def substraction(a,b):\n",
    "    if type(a) == int and type(b) == int:\n",
    "        if a>b:\n",
    "            return a-b\n",
    "        else:\n",
    "            return b-a\n",
    "    else:\n",
    "        return 'Please enter a number'\n",
    "\n",
    "#driver's code\n",
    "num1 = int(input(\"Please enter a number\"))\n",
    "num2 = int(input(\"Please enter another number\"))\n",
    "substraction(num1,num2)"
   ]
  },
  {
   "cell_type": "code",
   "execution_count": 58,
   "metadata": {},
   "outputs": [],
   "source": [
    "# pass key is used to pass if we are not doing anything inside the said function. e.g.:\n",
    "\n",
    "def substraction():\n",
    "    pass"
   ]
  },
  {
   "cell_type": "code",
   "execution_count": 59,
   "metadata": {},
   "outputs": [
    {
     "name": "stdout",
     "output_type": "stream",
     "text": [
      "[1, 2, 3, [5]]\n"
     ]
    }
   ],
   "source": [
    "list1 = [1,2,3,[4]]\n",
    "list2 = list(list1) # it makes list2 a nested list\n",
    "list1[3][0]=5\n",
    "list1[1]=7          # the second index is not given and hence it will not change\n",
    "print(list2)"
   ]
  },
  {
   "cell_type": "code",
   "execution_count": 45,
   "metadata": {},
   "outputs": [
    {
     "data": {
      "text/plain": [
       "55"
      ]
     },
     "execution_count": 45,
     "metadata": {},
     "output_type": "execute_result"
    }
   ],
   "source": [
    "# define find_sum that returns the sum of n numbers using iterative approach\n",
    "def find_sum(n):\n",
    "    sum = 0\n",
    "    for i in range(0,n+1):\n",
    "        sum += i\n",
    "    return sum\n",
    "\n",
    "find_sum(10)"
   ]
  },
  {
   "cell_type": "code",
   "execution_count": 51,
   "metadata": {},
   "outputs": [
    {
     "data": {
      "text/plain": [
       "55"
      ]
     },
     "execution_count": 51,
     "metadata": {},
     "output_type": "execute_result"
    }
   ],
   "source": [
    "# define find_sum that returns the sum of n numbers using while loop\n",
    "def find_sum(n):\n",
    "    sum = 0\n",
    "    while(n>0): \n",
    "        sum += n  \n",
    "        n=n-1   \n",
    "    return sum\n",
    "\n",
    "\n",
    "find_sum(10)\n",
    "    "
   ]
  },
  {
   "cell_type": "code",
   "execution_count": null,
   "metadata": {},
   "outputs": [],
   "source": [
    "'''\n",
    "Stacks:\n",
    "It is a linear data structure where we follow last in first out (LIFO) structure\n",
    "\n",
    "Recursion steps:\n",
    "1. Divide big problem into small and simple problems\n",
    "2. Find a base condition with simple answer\n",
    "3. Return or roll back answer for base condition to solve all sub problems\n",
    "\n",
    "define find_sum that returns the sum of n numbers using recursive approach\n",
    "# step 1 -> 1+2+3+4+5+6+7+...+n\n",
    "# step 2 -> find the base condition, 1\n",
    "# step 3 -> return the base condition    \n",
    "'''\n",
    "\n",
    "def find_sum(n):\n",
    "    if n == 1:\n",
    "        return 1\n",
    "    return n + find_sum(n-1)\n",
    "\n",
    "find_sum(10)"
   ]
  },
  {
   "cell_type": "code",
   "execution_count": 68,
   "metadata": {},
   "outputs": [
    {
     "name": "stdout",
     "output_type": "stream",
     "text": [
      "9000\n"
     ]
    }
   ],
   "source": [
    "# class -> when we club properties and behaviour under one roof\n",
    "\n",
    "class BankAccount():\n",
    "    def __init__(self):\n",
    "        self.balance = 0\n",
    "\n",
    "Ramesh = BankAccount() \n",
    "Ramesh.balance = 9000   # setting balance from default 0 to 9000\n",
    "print(Ramesh.balance)"
   ]
  }
 ],
 "metadata": {
  "interpreter": {
   "hash": "aee8b7b246df8f9039afb4144a1f6fd8d2ca17a180786b69acc140d282b71a49"
  },
  "kernelspec": {
   "display_name": "Python 3.10.4 64-bit",
   "language": "python",
   "name": "python3"
  },
  "language_info": {
   "codemirror_mode": {
    "name": "ipython",
    "version": 3
   },
   "file_extension": ".py",
   "mimetype": "text/x-python",
   "name": "python",
   "nbconvert_exporter": "python",
   "pygments_lexer": "ipython3",
   "version": "3.10.4"
  },
  "orig_nbformat": 4
 },
 "nbformat": 4,
 "nbformat_minor": 2
}
