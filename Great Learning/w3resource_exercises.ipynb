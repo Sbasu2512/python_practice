{
 "cells": [
  {
   "cell_type": "code",
   "execution_count": null,
   "metadata": {},
   "outputs": [],
   "source": [
    "'''\n",
    "Write a python program which accepts a sequence of comma separated numbers from user and generate a list and a tuple with those numbers\n",
    "'''\n",
    "commaValues = input(\"Please enter comma separated numbers:\")\n",
    "numbers = commaValues.split(',')\n",
    "tuple = tuple(numbers)\n",
    "print(numbers, tuple)"
   ]
  },
  {
   "cell_type": "code",
   "execution_count": null,
   "metadata": {},
   "outputs": [],
   "source": [
    "#what is the output of following code\n",
    "class Test:\n",
    "    count = 0\n",
    "    def __init__(self):\n",
    "        pass\n",
    "    \n",
    "    def incCount(self):\n",
    "        self.count+=1\n",
    "\n",
    "obj1 = Test()\n",
    "obj2 = Test()\n",
    "\n",
    "obj1.incCount()\n",
    "print(obj1.count)\n",
    "print(obj2.count)"
   ]
  },
  {
   "cell_type": "code",
   "execution_count": null,
   "metadata": {},
   "outputs": [],
   "source": [
    "# what is the output of following code\n",
    "class Employee:\n",
    "    def __init__(self,name):\n",
    "        self.name=name\n",
    "    \n",
    "emp1 = Employee(\"Alex\")\n",
    "emp2 = Employee(\"Alex\")\n",
    "\n",
    "if id(emp1) == id(emp2):\n",
    "    print(\"hello\")\n",
    "else:\n",
    "    print(\"bye\")\n",
    "\n",
    "if id(emp1.name)==id(emp2.name):\n",
    "    print(\"hello\")\n",
    "else:\n",
    "    print(\"bye\")"
   ]
  },
  {
   "cell_type": "code",
   "execution_count": null,
   "metadata": {},
   "outputs": [],
   "source": [
    "# check weather set X and Y are disjoint or not\n",
    "x = { 4,5,11,34,4,56,44,12,5}\n",
    "y = {41,52,63,56,67,45,23,12}\n",
    "\n",
    "print('is disjoint?',x.isdisjoint(y))\n",
    "if(x.isdisjoint(y) == False):\n",
    "    print('intersection of X & Y', x.intersection(y))\n",
    "else:\n",
    "    print('Sets are disjoint')"
   ]
  },
  {
   "cell_type": "code",
   "execution_count": null,
   "metadata": {},
   "outputs": [],
   "source": [
    "# define a fn to check wheather a number is in a range(1000,10000) or not\n",
    "def rangeCheck(num):\n",
    "    if num in range(1000,10000):\n",
    "        print(True)\n",
    "    else:\n",
    "        print(False)\n",
    "\n",
    "rangeCheck(999)"
   ]
  },
  {
   "cell_type": "code",
   "execution_count": null,
   "metadata": {},
   "outputs": [],
   "source": [
    "#print pascal triangle upto 5 steps\n",
    "list = [1]\n",
    "for i in range(5):\n",
    "    print(list)\n",
    "    newlist = []\n",
    "    newlist.append(list[0])\n",
    "    for i in range(len[list]-1):\n",
    "        newlist.append(list[i]+list[i+1])\n",
    "    newlist.append(list[-1])\n",
    "    list=newlist"
   ]
  },
  {
   "cell_type": "code",
   "execution_count": 4,
   "metadata": {},
   "outputs": [
    {
     "name": "stdout",
     "output_type": "stream",
     "text": [
      "3\n"
     ]
    }
   ],
   "source": [
    "#write a program to find square of first 5 positive number\n",
    "list = [1,2,3,4,5]\n",
    "for i in list:\n",
    "    print(i**2, end=' ')\n"
   ]
  },
  {
   "cell_type": "code",
   "execution_count": null,
   "metadata": {},
   "outputs": [],
   "source": [
    "num = 32\n",
    "num = num // 10\n",
    "print(num)"
   ]
  },
  {
   "cell_type": "code",
   "execution_count": 1,
   "metadata": {},
   "outputs": [
    {
     "name": "stdout",
     "output_type": "stream",
     "text": [
      "rev 3\n",
      "num 2\n",
      "rev 32\n",
      "num 0\n",
      "32\n"
     ]
    }
   ],
   "source": [
    "# write a program to reverse a positive integer\n",
    "num = int(input(\"Enter a positive integer:\"))\n",
    "reverse = 0\n",
    "while(num > 0):\n",
    "    digit = num%10\n",
    "    reverse = reverse*10 + digit\n",
    "    print('rev',reverse)\n",
    "    num = num // 10\n",
    "    print('num',num)\n",
    "\n",
    "print(reverse)"
   ]
  }
 ],
 "metadata": {
  "interpreter": {
   "hash": "aee8b7b246df8f9039afb4144a1f6fd8d2ca17a180786b69acc140d282b71a49"
  },
  "kernelspec": {
   "display_name": "Python 3.10.4 64-bit",
   "language": "python",
   "name": "python3"
  },
  "language_info": {
   "codemirror_mode": {
    "name": "ipython",
    "version": 3
   },
   "file_extension": ".py",
   "mimetype": "text/x-python",
   "name": "python",
   "nbconvert_exporter": "python",
   "pygments_lexer": "ipython3",
   "version": "3.10.4"
  },
  "orig_nbformat": 4
 },
 "nbformat": 4,
 "nbformat_minor": 2
}
