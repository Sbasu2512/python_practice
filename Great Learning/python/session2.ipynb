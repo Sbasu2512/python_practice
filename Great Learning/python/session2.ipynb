{
 "cells": [
  {
   "cell_type": "code",
   "execution_count": 60,
   "metadata": {},
   "outputs": [
    {
     "name": "stdout",
     "output_type": "stream",
     "text": [
      "ognajd natnayas\n"
     ]
    }
   ],
   "source": [
    "# reverse a string with slice method\n",
    "string=\"sayantan django\"\n",
    "print(string[::-1])"
   ]
  },
  {
   "cell_type": "code",
   "execution_count": 61,
   "metadata": {},
   "outputs": [
    {
     "name": "stdout",
     "output_type": "stream",
     "text": [
      "[5, 4, 3, 2, 1, 0]\n",
      "[2, 3]\n"
     ]
    }
   ],
   "source": [
    "#slice method\n",
    "# slice[start value:stop value:step]\n",
    "arr = [0,1,2,3,4,5]\n",
    "print(arr[::-1]) # will reverse the list \n",
    "print(arr[2:4]) # will print from 2nd element to 3rd element"
   ]
  },
  {
   "cell_type": "markdown",
   "metadata": {},
   "source": [
    "# Built in functions"
   ]
  },
  {
   "cell_type": "code",
   "execution_count": 62,
   "metadata": {},
   "outputs": [
    {
     "name": "stdout",
     "output_type": "stream",
     "text": [
      "Sum of 8 and 9 is 17 \n"
     ]
    }
   ],
   "source": [
    "# sum\n",
    "num1 = 8\n",
    "num2 = 9\n",
    "print(f\"Sum of {num1} and {num2} is {num1+num2} \")"
   ]
  },
  {
   "cell_type": "code",
   "execution_count": 63,
   "metadata": {},
   "outputs": [
    {
     "data": {
      "text/plain": [
       "'Please enter a number'"
      ]
     },
     "execution_count": 63,
     "metadata": {},
     "output_type": "execute_result"
    }
   ],
   "source": [
    "#define a function to print the sum of two number\n",
    "def addition(a,b): #user defined function\n",
    "    if type(a) == int and type(b) == int:\n",
    "        return a+b\n",
    "    else:\n",
    "        return \"Please enter a number\"\n",
    "\n",
    "#driver's code\n",
    "addition(3,4) # should print sum\n",
    "addition('3',4) # should not print sum, will go to else block "
   ]
  },
  {
   "cell_type": "code",
   "execution_count": 57,
   "metadata": {},
   "outputs": [
    {
     "data": {
      "text/plain": [
       "1"
      ]
     },
     "execution_count": 57,
     "metadata": {},
     "output_type": "execute_result"
    }
   ],
   "source": [
    "# define a function to print the substraction of two numbers. ask user to input them\n",
    "def substraction(a,b):\n",
    "    if type(a) == int and type(b) == int:\n",
    "        if a>b:\n",
    "            return a-b\n",
    "        else:\n",
    "            return b-a\n",
    "    else:\n",
    "        return 'Please enter a number'\n",
    "\n",
    "#driver's code\n",
    "num1 = int(input(\"Please enter a number\"))\n",
    "num2 = int(input(\"Please enter another number\"))\n",
    "substraction(num1,num2)"
   ]
  },
  {
   "cell_type": "code",
   "execution_count": 58,
   "metadata": {},
   "outputs": [],
   "source": [
    "# pass key is used to pass if we are not doing anything inside the said function. e.g.:\n",
    "\n",
    "def substraction():\n",
    "    pass"
   ]
  },
  {
   "cell_type": "code",
   "execution_count": 59,
   "metadata": {},
   "outputs": [
    {
     "name": "stdout",
     "output_type": "stream",
     "text": [
      "[1, 2, 3, [5]]\n"
     ]
    }
   ],
   "source": [
    "list1 = [1,2,3,[4]]\n",
    "list2 = list(list1) # it makes list2 a nested list\n",
    "list1[3][0]=5\n",
    "list1[1]=7          # the second index is not given and hence it will not change\n",
    "print(list2)"
   ]
  },
  {
   "cell_type": "code",
   "execution_count": 45,
   "metadata": {},
   "outputs": [
    {
     "data": {
      "text/plain": [
       "55"
      ]
     },
     "execution_count": 45,
     "metadata": {},
     "output_type": "execute_result"
    }
   ],
   "source": [
    "# define find_sum that returns the sum of n numbers using iterative approach\n",
    "def find_sum(n):\n",
    "    sum = 0\n",
    "    for i in range(0,n+1):\n",
    "        sum += i\n",
    "    return sum\n",
    "\n",
    "find_sum(10)"
   ]
  },
  {
   "cell_type": "code",
   "execution_count": 51,
   "metadata": {},
   "outputs": [
    {
     "data": {
      "text/plain": [
       "55"
      ]
     },
     "execution_count": 51,
     "metadata": {},
     "output_type": "execute_result"
    }
   ],
   "source": [
    "# define find_sum that returns the sum of n numbers using while loop\n",
    "def find_sum(n):\n",
    "    sum = 0\n",
    "    while(n>0): \n",
    "        sum += n  \n",
    "        n=n-1   \n",
    "    return sum\n",
    "\n",
    "\n",
    "find_sum(10)\n",
    "    "
   ]
  },
  {
   "cell_type": "code",
   "execution_count": null,
   "metadata": {},
   "outputs": [],
   "source": [
    "'''\n",
    "Stacks:\n",
    "It is a linear data structure where we follow last in first out (LIFO) structure\n",
    "\n",
    "Recursion steps:\n",
    "1. Divide big problem into small and simple problems\n",
    "2. Find a base condition with simple answer\n",
    "3. Return or roll back answer for base condition to solve all sub problems\n",
    "\n",
    "define find_sum that returns the sum of n numbers using recursive approach\n",
    "# step 1 -> 1+2+3+4+5+6+7+...+n\n",
    "# step 2 -> find the base condition, 1\n",
    "# step 3 -> return the base condition    \n",
    "'''\n",
    "\n",
    "def find_sum(n):\n",
    "    if n == 1:\n",
    "        return 1\n",
    "    return n + find_sum(n-1)\n",
    "\n",
    "find_sum(10)"
   ]
  },
  {
   "cell_type": "code",
   "execution_count": 68,
   "metadata": {},
   "outputs": [
    {
     "name": "stdout",
     "output_type": "stream",
     "text": [
      "9000\n"
     ]
    }
   ],
   "source": [
    "# class -> when we club properties and behaviour under one roof\n",
    "\n",
    "class BankAccount():\n",
    "    def __init__(self):\n",
    "        self.balance = 0\n",
    "\n",
    "Ramesh = BankAccount() \n",
    "Ramesh.balance = 9000   # setting balance from default 0 to 9000\n",
    "print(Ramesh.balance)"
   ]
  },
  {
   "cell_type": "markdown",
   "metadata": {},
   "source": [
    "OOP:\n",
    "1. Inheritance\n",
    "2. Encapsulation\n",
    "3. Polymorphism\n",
    "4. Abstraction\n",
    "\n",
    "Inheritance - single level\n",
    "One parent class <=> one child class\n",
    "\n",
    "syntax:"
   ]
  },
  {
   "cell_type": "code",
   "execution_count": 2,
   "metadata": {},
   "outputs": [
    {
     "name": "stdout",
     "output_type": "stream",
     "text": [
      "Sayantan with code 0123ACX \n"
     ]
    }
   ],
   "source": [
    "class Employee: #parent class\n",
    "    def __init__(self,name,code):\n",
    "        self.name = name\n",
    "        self.code = code\n",
    "    \n",
    "    def display(self):\n",
    "        print(f\"{self.name} with code {self.code} \")\n",
    "\n",
    "class Faculty(Employee):        #child class\n",
    "    def __init__(self,name,code,dept):\n",
    "        super().__init__(name,code)\n",
    "        self.dept = dept\n",
    "    \n",
    "    def department_display(self):\n",
    "        print(f\" {self.name} is in {self.dept} \")\n",
    "\n",
    "sayantan = Faculty(\"Sayantan\",\"0123ACX\",\"Mech\")\n",
    "sayantan.display()                 #inheritance from parent class method\n",
    "sayantan.department_display()   \n"
   ]
  },
  {
   "cell_type": "code",
   "execution_count": 6,
   "metadata": {},
   "outputs": [
    {
     "name": "stdout",
     "output_type": "stream",
     "text": [
      "Inside Honda\n"
     ]
    }
   ],
   "source": [
    "from abc import ABC,abstractmethod\n",
    "\n",
    "class Bike(ABC):\n",
    "\n",
    "    @abstractmethod     # decorators\n",
    "    def run(self):\n",
    "        pass\n",
    "\n",
    "# class Pulsar(Bike):\n",
    "#     pass\n",
    "\n",
    "class Honda(Bike):\n",
    "    def run(self):\n",
    "        print(\"Inside Honda\")\n",
    "\n",
    "# pulsar = Pulsar()       # this will throw an err because of missing abstract class method 'run'\n",
    "\n",
    "honda = Honda()\n",
    "honda.run()\n",
    "\n",
    "\n",
    "\n",
    "\n"
   ]
  },
  {
   "cell_type": "code",
   "execution_count": 7,
   "metadata": {},
   "outputs": [
    {
     "name": "stdout",
     "output_type": "stream",
     "text": [
      "Name of an employee: sayantan\n",
      "Age of an employee 29\n",
      "address of employee Kolkata salary of employee 29000\n"
     ]
    }
   ],
   "source": [
    "#composition, ultimate goal is reusability of the code\n",
    "\n",
    "class Employee:\n",
    "    def __init__(self, name, age):\n",
    "        self.name = name\n",
    "        self.age = age\n",
    "\n",
    "    def print_emp_details(self):\n",
    "        print(\"Name of an employee:\", self.name)\n",
    "        print(\"Age of an employee\", self.age)\n",
    "\n",
    "class Details:\n",
    "    def __init__(self, address, salary, emp_obj):\n",
    "        self.address = address\n",
    "        self.salary = salary\n",
    "        self.emp_obj = emp_obj\n",
    "\n",
    "    def display(self):\n",
    "        #calling Employee class print_emp_details method\n",
    "        self.emp_obj.print_emp_details()\n",
    "        print('address of employee', self.address, \"salary of employee\", self.salary)\n",
    "\n",
    "emp = Employee('sayantan',29)\n",
    "details = Details('Kolkata',29000,emp) # emp var is an object of another class to bind two classes\n",
    "details.display()"
   ]
  },
  {
   "cell_type": "code",
   "execution_count": 13,
   "metadata": {},
   "outputs": [
    {
     "name": "stdout",
     "output_type": "stream",
     "text": [
      "41000\n"
     ]
    }
   ],
   "source": [
    "# composition second way of implementation\n",
    "\n",
    "class Salary:\n",
    "    def __init__(self, pay,bonus):\n",
    "        self.pay = pay\n",
    "        self.bonus = bonus\n",
    "    \n",
    "    def annual_salary(self):\n",
    "        return (self.pay*12+self.bonus)\n",
    "\n",
    "class Employee:\n",
    "    def __init__(self,name,age,pay,bonus):\n",
    "        self.name = name\n",
    "        self.age = age\n",
    "        self.obj_salary = Salary(pay,bonus)\n",
    "    \n",
    "    def total_salary(self):\n",
    "        return self.obj_salary.annual_salary()\n",
    "\n",
    "ram = Employee('Ram',29,3000,5000)\n",
    "print(ram.total_salary())"
   ]
  },
  {
   "cell_type": "code",
   "execution_count": null,
   "metadata": {},
   "outputs": [],
   "source": [
    "# method overriding - defining a method of same name in the child class to override the parent class method\n",
    "#method overloading - not posiible directly in python. always happens in inheritance"
   ]
  }
 ],
 "metadata": {
  "interpreter": {
   "hash": "aee8b7b246df8f9039afb4144a1f6fd8d2ca17a180786b69acc140d282b71a49"
  },
  "kernelspec": {
   "display_name": "Python 3.10.4 64-bit",
   "language": "python",
   "name": "python3"
  },
  "language_info": {
   "codemirror_mode": {
    "name": "ipython",
    "version": 3
   },
   "file_extension": ".py",
   "mimetype": "text/x-python",
   "name": "python",
   "nbconvert_exporter": "python",
   "pygments_lexer": "ipython3",
   "version": "3.10.4"
  },
  "orig_nbformat": 4
 },
 "nbformat": 4,
 "nbformat_minor": 2
}
