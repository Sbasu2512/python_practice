{
 "cells": [
  {
   "cell_type": "markdown",
   "metadata": {},
   "source": [
    "Data Abstraction: Hiding un-necessary code from the outside world is called data abstraction.\n",
    "\n",
    "To create an abstract class we must import ABC from python modules"
   ]
  },
  {
   "cell_type": "code",
   "execution_count": null,
   "metadata": {},
   "outputs": [],
   "source": [
    "from abc import ABC\n",
    "\n",
    "class Bike(ABC):           # Abstract class\n",
    "    def run():\n",
    "        pass\n",
    "\n",
    "class Pulsar(Bike):        \n",
    "    pass\n",
    "\n",
    "obj = Pulsar()"
   ]
  }
 ],
 "metadata": {
  "language_info": {
   "name": "python"
  },
  "orig_nbformat": 4
 },
 "nbformat": 4,
 "nbformat_minor": 2
}
